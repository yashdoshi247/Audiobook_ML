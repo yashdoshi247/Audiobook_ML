{
 "cells": [
  {
   "cell_type": "markdown",
   "id": "4cb38757",
   "metadata": {},
   "source": [
    "## Audiobooks: Business Case Study"
   ]
  },
  {
   "cell_type": "code",
   "execution_count": 9,
   "id": "e3ffbac4",
   "metadata": {},
   "outputs": [],
   "source": [
    "import numpy as np\n",
    "from sklearn import preprocessing\n",
    "import pandas as pd\n",
    "import tensorflow as tf"
   ]
  },
  {
   "cell_type": "code",
   "execution_count": 28,
   "id": "1ce74918",
   "metadata": {},
   "outputs": [],
   "source": [
    "raw_csv_data = np.loadtxt ('Audiobooks_data.csv' , delimiter = ',')\n",
    "\n",
    "#Inputs are all the columns except ID(1st column) and targets(last column)\n",
    "unscaled_inputs_all = raw_csv_data[:,1:-1]\n",
    "#Targets is only the last column\n",
    "targets_all = raw_csv_data[:,-1]"
   ]
  },
  {
   "cell_type": "markdown",
   "id": "804a0c7b",
   "metadata": {},
   "source": [
    "## Balance the dataset"
   ]
  },
  {
   "cell_type": "code",
   "execution_count": 29,
   "id": "18db9c05",
   "metadata": {},
   "outputs": [
    {
     "data": {
      "text/plain": [
       "((4474, 10), (4474,))"
      ]
     },
     "execution_count": 29,
     "metadata": {},
     "output_type": "execute_result"
    }
   ],
   "source": [
    "#Adding all the targets to get number of 1s\n",
    "num_one_targets = int(np.sum(targets_all))\n",
    "zero_targets_counter = 0\n",
    "indices_to_remove = []\n",
    "\n",
    "#Counting number of zeroes and listing the indices once number of 0s = number of 1s\n",
    "for i in range(targets_all.shape[0]):\n",
    "    if targets_all[i] == 0:\n",
    "        zero_targets_counter+=1\n",
    "        if zero_targets_counter > num_one_targets:\n",
    "            indices_to_remove.append(i)\n",
    "\n",
    "#Deleting the relevant records to balance the dataset\n",
    "scaled_inputs_equal_priors = np.delete(unscaled_inputs_all, indices_to_remove, axis=0)\n",
    "targets_equal_priors = np.delete (targets_all, indices_to_remove, axis=0)\n",
    "\n",
    "scaled_inputs_equal_priors.shape, targets_equal_priors.shape"
   ]
  },
  {
   "cell_type": "markdown",
   "id": "0fd5693e",
   "metadata": {},
   "source": [
    "## Standardize the inputs"
   ]
  },
  {
   "cell_type": "code",
   "execution_count": 30,
   "id": "69b7195f",
   "metadata": {},
   "outputs": [
    {
     "data": {
      "text/plain": [
       "(4474, 10)"
      ]
     },
     "execution_count": 30,
     "metadata": {},
     "output_type": "execute_result"
    }
   ],
   "source": [
    "scaled_inputs = preprocessing.scale(scaled_inputs_equal_priors)\n",
    "scaled_inputs.shape"
   ]
  },
  {
   "cell_type": "markdown",
   "id": "1a0794ea",
   "metadata": {},
   "source": [
    "## Shuffle the data"
   ]
  },
  {
   "cell_type": "code",
   "execution_count": 34,
   "id": "e0cb2d77",
   "metadata": {},
   "outputs": [
    {
     "data": {
      "text/plain": [
       "((4474, 10), (4474,))"
      ]
     },
     "execution_count": 34,
     "metadata": {},
     "output_type": "execute_result"
    }
   ],
   "source": [
    "shuffled_indices = np.arange(scaled_inputs.shape[0])\n",
    "np.random.shuffle(shuffled_indices)\n",
    "\n",
    "shuffled_inputs = scaled_inputs[shuffled_indices]\n",
    "shuffled_targets = targets_equal_priors[shuffled_indices]\n",
    "shuffled_inputs.shape, shuffled_targets.shape"
   ]
  },
  {
   "cell_type": "markdown",
   "id": "6a9382b8",
   "metadata": {},
   "source": [
    "## Split the dataset into train, validation and test"
   ]
  },
  {
   "cell_type": "code",
   "execution_count": 35,
   "id": "f4a9bd9f",
   "metadata": {},
   "outputs": [
    {
     "name": "stdout",
     "output_type": "stream",
     "text": [
      "1799.0 3579 0.5026543727298128\n",
      "215.0 447 0.4809843400447427\n",
      "223.0 448 0.49776785714285715\n"
     ]
    }
   ],
   "source": [
    "#Counting number of samples\n",
    "samples_count = shuffled_inputs.shape[0]\n",
    "\n",
    "#Splitting the dataset into 80-10-10 split\n",
    "train_samples_count = int(0.8*samples_count)\n",
    "validation_samples_count = int(0.1*samples_count)\n",
    "test_samples_count = samples_count - train_samples_count - validation_samples_count\n",
    "\n",
    "train_inputs = shuffled_inputs[:train_samples_count]\n",
    "train_targets = shuffled_targets[:train_samples_count]\n",
    "\n",
    "validation_inputs = shuffled_inputs[train_samples_count : train_samples_count+validation_samples_count]\n",
    "validation_targets = shuffled_targets[train_samples_count : train_samples_count+validation_samples_count]\n",
    "\n",
    "test_inputs = shuffled_inputs[train_samples_count+validation_samples_count:]\n",
    "test_targets = shuffled_targets[train_samples_count+validation_samples_count:]\n",
    "\n",
    "#Checking if the split datasets are individually balanced\n",
    "print(np.sum(train_targets), train_samples_count, np.sum(train_targets)/ train_samples_count)\n",
    "print(np.sum(validation_targets), validation_samples_count, np.sum(validation_targets)/ validation_samples_count)\n",
    "print(np.sum(test_targets), test_samples_count, np.sum(test_targets)/ test_samples_count)"
   ]
  },
  {
   "cell_type": "markdown",
   "id": "6eb3b46f",
   "metadata": {},
   "source": [
    "## Save the three datasets in *.npz"
   ]
  },
  {
   "cell_type": "code",
   "execution_count": 36,
   "id": "38f01c0c",
   "metadata": {},
   "outputs": [],
   "source": [
    "np.savez('Audio_Train', inputs = train_inputs, targets = train_targets)\n",
    "np.savez('Audio_Validation', inputs = validation_inputs, targets = validation_targets)\n",
    "np.savez('Audio_Test', inputs = test_inputs, targets = test_targets)"
   ]
  },
  {
   "cell_type": "code",
   "execution_count": null,
   "id": "f150ddfe",
   "metadata": {},
   "outputs": [],
   "source": []
  }
 ],
 "metadata": {
  "kernelspec": {
   "display_name": "Python [conda env:py3.1-TF2.0]",
   "language": "python",
   "name": "conda-env-py3.1-TF2.0-py"
  },
  "language_info": {
   "codemirror_mode": {
    "name": "ipython",
    "version": 3
   },
   "file_extension": ".py",
   "mimetype": "text/x-python",
   "name": "python",
   "nbconvert_exporter": "python",
   "pygments_lexer": "ipython3",
   "version": "3.6.13"
  }
 },
 "nbformat": 4,
 "nbformat_minor": 5
}
